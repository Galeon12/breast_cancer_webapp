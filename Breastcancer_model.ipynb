{
 "cells": [
  {
   "cell_type": "code",
   "execution_count": 14,
   "id": "939c12db-43ea-4ad0-9828-c5f19886db42",
   "metadata": {},
   "outputs": [
    {
     "name": "stdout",
     "output_type": "stream",
     "text": [
      "✅ Model, scaler, and features saved with joblib.\n"
     ]
    }
   ],
   "source": [
    "from sklearn.datasets import load_breast_cancer\n",
    "from sklearn.ensemble import RandomForestClassifier\n",
    "from sklearn.model_selection import train_test_split\n",
    "from sklearn.preprocessing import StandardScaler\n",
    "import joblib  # ✅ Use joblib instead of pickle\n",
    "\n",
    "# Load dataset\n",
    "data = load_breast_cancer()\n",
    "X, y = data.data, data.target\n",
    "features = data.feature_names\n",
    "\n",
    "# Define top 15 features\n",
    "top15 = [\n",
    "    'worst area', 'worst concave points', 'mean concave points', 'worst radius',\n",
    "    'worst perimeter', 'mean perimeter', 'mean concavity', 'mean area',\n",
    "    'worst concavity', 'mean radius', 'mean texture', 'worst texture',\n",
    "    'worst smoothness', 'mean smoothness', 'worst compactness'\n",
    "]\n",
    "top15_indices = [list(features).index(f) for f in top15]\n",
    "X_top15 = X[:, top15_indices]\n",
    "\n",
    "# Scale features\n",
    "scaler = StandardScaler()\n",
    "X_scaled = scaler.fit_transform(X_top15)\n",
    "\n",
    "# Train/test split\n",
    "X_train, X_test, y_train, y_test = train_test_split(X_scaled, y, test_size=0.2, random_state=42)\n",
    "\n",
    "# Train model\n",
    "model = RandomForestClassifier(n_estimators=100, random_state=42)\n",
    "model.fit(X_train, y_train)\n",
    "\n",
    "# Save using joblib\n",
    "joblib.dump(model, 'model.joblib')\n",
    "joblib.dump(scaler, 'scaler.joblib')\n",
    "joblib.dump(top15, 'features.joblib')\n",
    "\n",
    "print(\"✅ Model, scaler, and features saved with joblib.\")\n"
   ]
  }
 ],
 "metadata": {
  "kernelspec": {
   "display_name": "Python 3 (ipykernel)",
   "language": "python",
   "name": "python3"
  },
  "language_info": {
   "codemirror_mode": {
    "name": "ipython",
    "version": 3
   },
   "file_extension": ".py",
   "mimetype": "text/x-python",
   "name": "python",
   "nbconvert_exporter": "python",
   "pygments_lexer": "ipython3",
   "version": "3.12.10"
  }
 },
 "nbformat": 4,
 "nbformat_minor": 5
}
